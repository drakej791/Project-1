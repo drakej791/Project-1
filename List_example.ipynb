{
  "nbformat": 4,
  "nbformat_minor": 0,
  "metadata": {
    "colab": {
      "provenance": [],
      "authorship_tag": "ABX9TyPu1uAWEqa7ortSsdzWLJAh",
      "include_colab_link": true
    },
    "kernelspec": {
      "name": "python3",
      "display_name": "Python 3"
    },
    "language_info": {
      "name": "python"
    }
  },
  "cells": [
    {
      "cell_type": "markdown",
      "metadata": {
        "id": "view-in-github",
        "colab_type": "text"
      },
      "source": [
        "<a href=\"https://colab.research.google.com/github/drakej791/Project-1/blob/main/List_example.ipynb\" target=\"_parent\"><img src=\"https://colab.research.google.com/assets/colab-badge.svg\" alt=\"Open In Colab\"/></a>"
      ]
    },
    {
      "cell_type": "code",
      "execution_count": null,
      "metadata": {
        "id": "Ua3cOQ7EDcGQ"
      },
      "outputs": [],
      "source": []
    },
    {
      "cell_type": "code",
      "execution_count": 2,
      "metadata": {
        "colab": {
          "base_uri": "https://localhost:8080/"
        },
        "id": "OwHJ1qW90Xmr",
        "outputId": "1e92d420-1fb7-4d11-ed21-ae88f0acf804"
      },
      "outputs": [
        {
          "name": "stdout",
          "output_type": "stream",
          "text": [
            "Enter a value: 200\n",
            "[200]\n",
            "Enter a value: 300\n",
            "[300, 200]\n",
            "Enter a value: 500\n",
            "[500, 300, 200]\n",
            "Enter a value: 0\n"
          ]
        }
      ],
      "source": [
        "L = []\n",
        "number = int(input('Enter a value: '))\n",
        "while 1 == 1:\n",
        "  if number == 0:\n",
        "    break\n",
        "  else:\n",
        "    L.insert(0,number)\n",
        "    print(L)\n",
        "    number = int(input('Enter a value: '))\n"
      ]
    }
  ]
}