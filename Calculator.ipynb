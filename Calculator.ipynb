{
  "cells": [
    {
      "cell_type": "markdown",
      "metadata": {
        "id": "view-in-github",
        "colab_type": "text"
      },
      "source": [
        "<a href=\"https://colab.research.google.com/github/drakej791/Project-1/blob/main/Calculator.ipynb\" target=\"_parent\"><img src=\"https://colab.research.google.com/assets/colab-badge.svg\" alt=\"Open In Colab\"/></a>"
      ]
    },
    {
      "cell_type": "code",
      "execution_count": null,
      "metadata": {
        "colab": {
          "base_uri": "https://localhost:8080/"
        },
        "id": "RBbHpkTScDea",
        "outputId": "48f355bc-31b2-4fe2-9686-0f88a231d001"
      },
      "outputs": [
        {
          "output_type": "stream",
          "name": "stdout",
          "text": [
            "number 1: 1\n",
            "operator (type break to break): -\n",
            "number 2: 3\n",
            "1.0 - 3.0 = -2.0\n"
          ]
        }
      ],
      "source": [
        "while True:\n",
        "  userinput1 = float(input('number 1: '))\n",
        "  userinput2 = input('operator (type break to break): ')\n",
        "  userinput3 = float(input('number 2: '))\n",
        "  if userinput2 == \"+\":\n",
        "   answer = userinput1 + userinput3\n",
        "  elif userinput2 == \"-\":\n",
        "   answer= userinput1 - userinput3\n",
        "  elif userinput2 == \"*\":\n",
        "   answer= userinput1 * userinput3\n",
        "  elif userinput2 == \"/\":\n",
        "    answer= userinput1 / userinput3\n",
        "  elif userinput2 == \"//\":\n",
        "    answer= userinput1 // userinput3\n",
        "  elif userinput2 == \"%\":\n",
        "    answer= userinput1 % userinput3\n",
        "  elif userinput2 == \"**\":\n",
        "    answer= userinput1 ** userinput3\n",
        "  elif userinput2 == 'break':\n",
        "    break\n",
        "  else:\n",
        "    continue\n",
        "\n",
        "  print(userinput1, userinput2, userinput3, '=', float(answer))"
      ]
    }
  ],
  "metadata": {
    "colab": {
      "provenance": [],
      "authorship_tag": "ABX9TyNnCozXjGPyWdgLrEEjHJt3",
      "include_colab_link": true
    },
    "kernelspec": {
      "display_name": "Python 3",
      "name": "python3"
    },
    "language_info": {
      "name": "python"
    }
  },
  "nbformat": 4,
  "nbformat_minor": 0
}