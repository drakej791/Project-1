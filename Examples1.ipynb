{
  "nbformat": 4,
  "nbformat_minor": 0,
  "metadata": {
    "colab": {
      "provenance": [],
      "authorship_tag": "ABX9TyPH2sRxb237KsWaTaD+Y3GF",
      "include_colab_link": true
    },
    "kernelspec": {
      "name": "python3",
      "display_name": "Python 3"
    },
    "language_info": {
      "name": "python"
    }
  },
  "cells": [
    {
      "cell_type": "markdown",
      "metadata": {
        "id": "view-in-github",
        "colab_type": "text"
      },
      "source": [
        "<a href=\"https://colab.research.google.com/github/drakej791/Project-1/blob/main/Examples1.ipynb\" target=\"_parent\"><img src=\"https://colab.research.google.com/assets/colab-badge.svg\" alt=\"Open In Colab\"/></a>"
      ]
    },
    {
      "cell_type": "code",
      "execution_count": null,
      "metadata": {
        "id": "uJqVjycB3ZE-",
        "colab": {
          "base_uri": "https://localhost:8080/"
        },
        "outputId": "5fe0290e-1cdf-450a-af08-a947c76c8626"
      },
      "outputs": [
        {
          "output_type": "stream",
          "name": "stdout",
          "text": [
            "what is your name? dj\n",
            "Your name is:  dj\n",
            "Where are you from? orlando\n",
            "You are from orlando\n"
          ]
        }
      ],
      "source": [
        "name=input('what is your name? ')\n",
        "print('Your name is: ', name)\n",
        "\n",
        "place = input('Where are you from? ')\n",
        "print(f'You are from {place}')\n"
      ]
    },
    {
      "cell_type": "code",
      "source": [
        "x = 5\n",
        "y = 3\n",
        "\n",
        "if x > y:\n",
        "  if x >= (y*2):\n",
        "    print('too big')\n",
        "  elif x < (y*2):\n",
        "    print('good job')\n",
        "else:\n",
        "  if x <= (y/2):\n",
        "    print('too small')\n",
        "  elif x > (y/2):\n",
        "    print('good job!')\n"
      ],
      "metadata": {
        "colab": {
          "base_uri": "https://localhost:8080/"
        },
        "id": "DWIEptMz_9Nk",
        "outputId": "cf591483-2e2d-4949-f74c-9ffbbb3ec3e1"
      },
      "execution_count": null,
      "outputs": [
        {
          "output_type": "stream",
          "name": "stdout",
          "text": [
            "good job\n"
          ]
        }
      ]
    },
    {
      "cell_type": "code",
      "source": [
        "dep=float(input('what is your deposit?'))\n",
        "if dep > 10000:\n",
        "  ir=0.035\n",
        "elif dep < 1000:\n",
        " ir=0.03\n",
        "else:\n",
        " ir=0.0325\n",
        "deposit_endofYear = round((1+ir)* dep,2)\n",
        "print(f'Your deposit at the end of the year is: {deposit_endofYear}')\n"
      ],
      "metadata": {
        "colab": {
          "base_uri": "https://localhost:8080/"
        },
        "id": "vZFG4NJJSH7G",
        "outputId": "e0f44586-8382-4f50-e611-4d60261460de"
      },
      "execution_count": null,
      "outputs": [
        {
          "output_type": "stream",
          "name": "stdout",
          "text": [
            "what is your deposit?3000\n",
            "Your deposit at the end of the year is: 3097.5\n"
          ]
        }
      ]
    },
    {
      "cell_type": "code",
      "source": [
        "customer_type = input('Enter customer type (n:new, e:existing): ')\n",
        "dep = float(input('Enter deposit amount: '))\n",
        "if customer_type == 'n':\n",
        "  ir=0.03\n",
        "else:\n",
        "  if dep > 10000:\n",
        "    ir=0.035\n",
        "  elif dep < 1000:\n",
        "    ir=0.03\n",
        "  else:\n",
        "    ir=0.0325\n",
        "total = round((1+ir)* dep,2)\n",
        "print(f'Your deposit at the end of the year is: {total}')"
      ],
      "metadata": {
        "colab": {
          "base_uri": "https://localhost:8080/"
        },
        "id": "tFuMOmnqZuSv",
        "outputId": "5e5e99ce-fc21-4044-a2bc-25b65ad33f79"
      },
      "execution_count": null,
      "outputs": [
        {
          "output_type": "stream",
          "name": "stdout",
          "text": [
            "Enter customer type (n:new, e:existing): n\n",
            "Enter deposit amount: 12000\n",
            "Your deposit at the end of the year is: 12360.0\n"
          ]
        }
      ]
    },
    {
      "cell_type": "code",
      "source": [
        "x = 2\n",
        "y = 4\n",
        "z = 6\n",
        "\n",
        "if x%2 != 0 and y%2 != 0 and z%2 != 0:\n",
        "    print(max(x, y, z))\n",
        "elif x%2 != 0 and y%2 != 0 and z%2 == 0:\n",
        "    print(max(x, y))\n",
        "elif x%2 != 0 and y%2 == 0 and z%2 != 0:\n",
        "    print(max(x, z))\n",
        "elif x%2 == 0 and y%2 != 0 and z%2 != 0:\n",
        "    print(max(y, z))\n",
        "elif x%2 != 0 and y%2 == 0 and z%2 == 0:\n",
        "    print(x)\n",
        "elif x%2 == 0 and y%2 != 0 and z%2 == 0:\n",
        "    print(y)\n",
        "elif x%2 == 0 and y%2 == 0 and z%2 != 0:\n",
        "    print(z)\n",
        "else:\n",
        "    print(min(x, y, z))"
      ],
      "metadata": {
        "id": "ielu011Oqp01",
        "colab": {
          "base_uri": "https://localhost:8080/"
        },
        "outputId": "b18426f0-7b05-4598-9c37-16dfd9eb7b08"
      },
      "execution_count": null,
      "outputs": [
        {
          "output_type": "stream",
          "name": "stdout",
          "text": [
            "2\n"
          ]
        }
      ]
    },
    {
      "cell_type": "code",
      "source": [
        "import random\n",
        "pc_choice=random.choice(['rock','paper','scissors'])\n",
        "choice= input('rock,paper,scissors?')\n",
        "print(pc_choice)\n",
        "if choice=='rock':\n",
        "  if pc_choice=='rock':\n",
        "    print('draw')\n",
        "  elif pc_choice=='paper':\n",
        "    print('loss')\n",
        "  else:\n",
        "    print('WIN')\n",
        "elif choice=='paper':\n",
        "  if pc_choice=='paper':\n",
        "   print('draw')\n",
        "  elif pc_choice=='scissors':\n",
        "    print('loss')\n",
        "  else:\n",
        "    print('WIN')\n",
        "elif choice=='scissors':\n",
        "  if pc_choice=='scissors':\n",
        "    print('draw')\n",
        "  elif pc_choice=='rock':\n",
        "    print('loss')\n",
        "  else:\n",
        "    print('WIN')\n",
        "\n",
        "\n"
      ],
      "metadata": {
        "colab": {
          "base_uri": "https://localhost:8080/"
        },
        "id": "AgY5yAc92fq9",
        "outputId": "382d4931-f46d-4e92-ea8c-cc87ce4abc01"
      },
      "execution_count": null,
      "outputs": [
        {
          "output_type": "stream",
          "name": "stdout",
          "text": [
            "Rock,paper,scissors?scissors\n",
            "paper\n",
            "WIN\n"
          ]
        }
      ]
    },
    {
      "cell_type": "code",
      "source": [
        "import random\n",
        "pc_choice=random.choice(['rock','paper','scissors'])\n",
        "choice=input('rock, paper, scissors? ')\n",
        "print(pc_choice)\n",
        "if pc_choice==choice:\n",
        "  print('draw')\n",
        "elif (pc_choice=='rock' and choice=='paper') or (pc_choice=='scissors' and choice=='rock') or (pc_choice=='paper' and choice=='scissors'):\n",
        "  print('WIN')\n",
        "else:\n",
        "  print('loss')"
      ],
      "metadata": {
        "colab": {
          "base_uri": "https://localhost:8080/"
        },
        "id": "i_U1UlOE5fsG",
        "outputId": "3bf66746-a2fa-4db7-80bf-d78e1dd5a080"
      },
      "execution_count": null,
      "outputs": [
        {
          "output_type": "stream",
          "name": "stdout",
          "text": [
            "rock, paper, scissors? scissors\n",
            "paper\n",
            "WIN\n"
          ]
        }
      ]
    },
    {
      "cell_type": "code",
      "source": [
        "from ColabTurtlePlus.Turtle import *\n",
        "clearscreen()\n",
        "\n",
        "color('black','green')\n",
        "begin_fill()\n",
        "jumpto(0,0)\n",
        "for var in range(4): #--repeat indented lines (4) times\n",
        "  forward(100)\n",
        "  left(90)\n",
        "end_fill()\n"
      ],
      "metadata": {
        "colab": {
          "base_uri": "https://localhost:8080/",
          "height": 639
        },
        "id": "Wk96tNkjTYkK",
        "outputId": "deb2cf39-c5c8-4a13-cc8f-4dbed4619eba"
      },
      "execution_count": null,
      "outputs": [
        {
          "output_type": "display_data",
          "data": {
            "text/plain": [
              "<IPython.core.display.HTML object>"
            ],
            "text/html": [
              "\n",
              "      <svg width=\"800\" height=\"600\">  \n",
              "        <rect width=\"100%\" height=\"100%\" style=\"fill:white;stroke:;stroke-width:1\"/>\n",
              "        \n",
              "        \n",
              "        <path fill-rule=\"evenodd\" fill-opacity=\"1\" d=\"M 400.0 300.0  L 400.0 300.0  L 500.0 300.0  L 500.0 200.0  L 400.0 200.0  L 400.0 300.0 \" stroke-linecap=\"round\" style=\"stroke:black;stroke-width:1\" fill=\"green\" />\n",
              "        \n",
              "        \n",
              "        <g id=\"classic\" visibility=\"visible\" transform=\"rotate(-90,400.0,300.0) translate(400.0, 300.0)\">\n",
              "<polygon points=\"-5,-4.5 0,-2.5 5,-4.5 0,4.5\" transform=\"skewX(0) scale(1,1)\" style=\"stroke:black;fill:green;stroke-width:1\" />\n",
              "</g>\n",
              "      </svg>\n",
              "    "
            ]
          },
          "metadata": {}
        },
        {
          "output_type": "stream",
          "name": "stdout",
          "text": [
            "3\n"
          ]
        }
      ]
    },
    {
      "cell_type": "code",
      "source": [
        "import random\n",
        "play=input('Do you want to play the game? (y/n) ')\n",
        "while play=='y':\n",
        "  choice=input('rock, paper, scissors? ')\n",
        "  pc_choice=random.choicer(['rock','paper','scissors'])\n",
        "  print(pc_choice)\n",
        "  if pc_choice==choice:\n",
        "    print('draw')\n",
        "  elif (pc_choice=='rock' and choice=='paper') or (pc_choice=='scissors' and choice=='rock') or (pc_choice=='paper' and choice=='scissors'):\n",
        "    print('WIN')\n",
        "  else:\n",
        "    print('loss')\n",
        "  play=input('Play again? (y/n) ')\n",
        "print('Game over')"
      ],
      "metadata": {
        "colab": {
          "base_uri": "https://localhost:8080/"
        },
        "id": "93wm7FvS9nns",
        "outputId": "ba02fe78-b7ca-4032-e336-050d3a7c9155"
      },
      "execution_count": null,
      "outputs": [
        {
          "output_type": "stream",
          "name": "stdout",
          "text": [
            "Do you want to play the game? (y/n) y\n",
            "rock, paper, scissors? ock\n",
            "paper\n",
            "loss\n",
            "Play again? (y/n) y\n",
            "rock, paper, scissors? rock\n",
            "rock\n",
            "draw\n",
            "Play again? (y/n) y\n",
            "rock, paper, scissors? paper\n",
            "paper\n",
            "draw\n",
            "Play again? (y/n) y\n",
            "rock, paper, scissors? scissors\n",
            "scissors\n",
            "draw\n",
            "Play again? (y/n) n\n",
            "Game over\n"
          ]
        }
      ]
    },
    {
      "cell_type": "code",
      "source": [
        "for hour in range(1,9):\n",
        "  fee=(hour*2.5)+5\n",
        "  if fee<10:\n",
        "    fee=10\n",
        "  elif fee>20:\n",
        "    fee=20\n",
        "  print(f'{hour}: ${float(fee)}')\n",
        "\n"
      ],
      "metadata": {
        "colab": {
          "base_uri": "https://localhost:8080/"
        },
        "id": "VkgNXTJFmTuX",
        "outputId": "5a85d85a-84a2-4886-faa3-2776d66b555a"
      },
      "execution_count": null,
      "outputs": [
        {
          "output_type": "stream",
          "name": "stdout",
          "text": [
            "1: $10.0\n",
            "2: $10.0\n",
            "3: $12.5\n",
            "4: $15.0\n",
            "5: $17.5\n",
            "6: $20.0\n",
            "7: $20.0\n",
            "8: $20.0\n"
          ]
        }
      ]
    }
  ]
}